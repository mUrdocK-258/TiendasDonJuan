{
 "cells": [
  {
   "cell_type": "code",
   "execution_count": null,
   "metadata": {
    "id": "RhEdWd9YUR6H"
   },
   "outputs": [],
   "source": [
    "### Importación de datos\n",
    "import pandas as pd\n",
    "import matplotlib.pyplot as plt\n",
    "\n",
    "# Cargar los CSV\n",
    "tienda1 = pd.read_csv('/mnt/data/tienda_1.csv')\n",
    "tienda2 = pd.read_csv('/mnt/data/tienda_2.csv')\n",
    "tienda3 = pd.read_csv('/mnt/data/tienda_3.csv')\n",
    "tienda4 = pd.read_csv('/mnt/data/tienda_4.csv')\n",
    "\n",
    "# Lista para recorrer\n",
    "tiendas = [tienda1, tienda2, tienda3, tienda4]\n",
    "nombres = ['Tienda 1', 'Tienda 2', 'Tienda 3', 'Tienda 4']\n",
    "\n",
    "# Limpiar y calcular facturación\n",
    "facturaciones = []\n",
    "for i, tienda in enumerate(tiendas):\n",
    "    tienda['Precio'] = pd.to_numeric(tienda['Precio'], errors='coerce')\n",
    "    tienda = tienda.dropna(subset=['Precio'])\n",
    "    facturacion = tienda['Precio'].sum()\n",
    "    facturaciones.append(facturacion)\n",
    "    print(f\"{nombres[i]} - Facturación: ${facturacion:,.2f}\")\n",
    "\n",
    "# Crear dataframe resumen\n",
    "resumen = pd.DataFrame({'Tienda': nombres, 'Facturación': facturaciones})\n",
    "\n",
    "# Mostrar resumen ordenado\n",
    "print(resumen.sort_values(by='Facturación', ascending=False))\n",
    "\n",
    "# Gráfica\n",
    "plt.figure(figsize=(8,5))\n",
    "plt.bar(resumen['Tienda'], resumen['Facturación'], color='skyblue')\n",
    "plt.title('Facturación Total por Tienda')\n",
    "plt.xlabel('Tienda')\n",
    "plt.ylabel('Facturación ($)')\n",
    "plt.grid(axis='y', linestyle='--', alpha=0.7)\n",
    "plt.show()\n"
   ]
  },
  {
   "cell_type": "markdown",
   "metadata": {
    "id": "X62IW3KFUIYm"
   },
   "source": [
    "#1. Análisis de facturación\n",
    "\n"
   ]
  },
  {
   "cell_type": "code",
   "execution_count": null,
   "metadata": {
    "id": "KDyr8E71V3m-"
   },
   "outputs": [],
   "source": []
  },
  {
   "cell_type": "markdown",
   "metadata": {
    "id": "2V_vcAPzWZmR"
   },
   "source": [
    "# 2. Ventas por categoría"
   ]
  },
  {
   "cell_type": "code",
   "execution_count": null,
   "metadata": {
    "id": "A34YupIuYhfF"
   },
   "outputs": [],
   "source": []
  },
  {
   "cell_type": "code",
   "execution_count": null,
   "metadata": {
    "id": "yZR6cOjXYSk1"
   },
   "outputs": [],
   "source": []
  },
  {
   "cell_type": "markdown",
   "metadata": {
    "id": "Rq6tU_xSY3jk"
   },
   "source": [
    "# 3. Calificación promedio de la tienda\n"
   ]
  },
  {
   "cell_type": "code",
   "execution_count": null,
   "metadata": {
    "id": "bh3jjjJwY5MU"
   },
   "outputs": [],
   "source": []
  },
  {
   "cell_type": "code",
   "execution_count": null,
   "metadata": {
    "id": "I0KkjPoTY88F"
   },
   "outputs": [],
   "source": []
  },
  {
   "cell_type": "markdown",
   "metadata": {
    "id": "DmNp1KPBZCm-"
   },
   "source": [
    "# 4. Productos más y menos vendidos"
   ]
  },
  {
   "cell_type": "code",
   "execution_count": null,
   "metadata": {
    "id": "qoyjqijQZHfF"
   },
   "outputs": [],
   "source": []
  },
  {
   "cell_type": "code",
   "execution_count": null,
   "metadata": {
    "id": "0Sw3sd4IZIGW"
   },
   "outputs": [],
   "source": []
  },
  {
   "cell_type": "markdown",
   "metadata": {
    "id": "Fl0cGi3bZKqU"
   },
   "source": [
    "# 5. Envío promedio por tienda"
   ]
  },
  {
   "cell_type": "code",
   "execution_count": null,
   "metadata": {
    "id": "S2JeaCykZNy9"
   },
   "outputs": [],
   "source": []
  },
  {
   "cell_type": "code",
   "execution_count": null,
   "metadata": {
    "id": "0tSdCie9ZQlt"
   },
   "outputs": [],
   "source": []
  }
 ],
 "metadata": {
  "colab": {
   "provenance": []
  },
  "kernelspec": {
   "display_name": "Python 3 (ipykernel)",
   "language": "python",
   "name": "python3"
  },
  "language_info": {
   "codemirror_mode": {
    "name": "ipython",
    "version": 3
   },
   "file_extension": ".py",
   "mimetype": "text/x-python",
   "name": "python",
   "nbconvert_exporter": "python",
   "pygments_lexer": "ipython3",
   "version": "3.13.3"
  }
 },
 "nbformat": 4,
 "nbformat_minor": 4
}
